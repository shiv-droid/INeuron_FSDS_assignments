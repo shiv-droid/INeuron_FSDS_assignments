{
 "cells": [
  {
   "cell_type": "markdown",
   "id": "af9309e0",
   "metadata": {},
   "source": [
    "1. Write a Python program to print \"Hello Python\"?"
   ]
  },
  {
   "cell_type": "code",
   "execution_count": 1,
   "id": "8658fc55",
   "metadata": {},
   "outputs": [
    {
     "name": "stdout",
     "output_type": "stream",
     "text": [
      "Hello Python\n"
     ]
    }
   ],
   "source": [
    "print(\"Hello Python\")"
   ]
  },
  {
   "cell_type": "markdown",
   "id": "fa4c579a",
   "metadata": {},
   "source": [
    "2. Write a Python program to do arithmetical operations addition and division.?"
   ]
  },
  {
   "cell_type": "code",
   "execution_count": 11,
   "id": "8e8ac1c9",
   "metadata": {},
   "outputs": [
    {
     "name": "stdout",
     "output_type": "stream",
     "text": [
      "Enter the first number:  5\n",
      "ENter the second number here: 5\n",
      "Enter the operation you want to perform as '+' or '/': +\n",
      "10\n"
     ]
    }
   ],
   "source": [
    "num1 = int(input(\"Enter the first number:  \"))\n",
    "num2 = int(input(\"Enter the second number here: \"))\n",
    "operation = input(\"Enter the operation you want to perform as '+' or '/': \")\n",
    "result  = 0\n",
    "\n",
    "\n",
    "if operation == '+':\n",
    "    result = num1 + num2\n",
    "elif operation == '/':\n",
    "    result = num1/num2 \n",
    "else:\n",
    "    print('Please enter a valid operation')\n",
    "print(result)"
   ]
  },
  {
   "cell_type": "markdown",
   "id": "4a958f4a",
   "metadata": {},
   "source": [
    "3. Write a Python program to find the area of a triangle?"
   ]
  },
  {
   "cell_type": "code",
   "execution_count": 13,
   "id": "347fdeb7",
   "metadata": {},
   "outputs": [
    {
     "name": "stdout",
     "output_type": "stream",
     "text": [
      "Enter the base of the triangle:  5\n",
      "Enter the height of the triangle:  10\n",
      "25.0\n"
     ]
    }
   ],
   "source": [
    "base = int(input(\"Enter the base of the triangle:  \"))\n",
    "height = int(input(\"Enter the height of the triangle:  \"))\n",
    "\n",
    "areaOfTriangle = 0.5 * (base * height)\n",
    "print(areaOfTriangle)"
   ]
  },
  {
   "cell_type": "markdown",
   "id": "490d602b",
   "metadata": {},
   "source": [
    "4. Write a Python program to swap two variables?"
   ]
  },
  {
   "cell_type": "code",
   "execution_count": 18,
   "id": "7aa63ddb",
   "metadata": {},
   "outputs": [
    {
     "name": "stdout",
     "output_type": "stream",
     "text": [
      "Value of var1 and var2 before swap 5, 6.\n",
      "Value of var1 and var2 after swap 6, 5.\n"
     ]
    }
   ],
   "source": [
    "var1 = 5\n",
    "var2 = 6\n",
    "\n",
    "print(f\"Value of var1 and var2 before swap {var1}, {var2}.\")\n",
    "      \n",
    "temp = var1 #temporary varible \n",
    "var1 = var2 \n",
    "var2 = temp\n",
    "\n",
    "print(f\"Value of var1 and var2 after swap {var1}, {var2}.\")"
   ]
  },
  {
   "cell_type": "markdown",
   "id": "c6ad3a3f",
   "metadata": {},
   "source": [
    "5. Write a Python program to generate a random number?"
   ]
  },
  {
   "cell_type": "code",
   "execution_count": 24,
   "id": "0bd24d3a",
   "metadata": {},
   "outputs": [
    {
     "name": "stdout",
     "output_type": "stream",
     "text": [
      "965\n"
     ]
    }
   ],
   "source": [
    "import random  as r\n",
    "\n",
    "print(r.randint(1, 1000))"
   ]
  },
  {
   "cell_type": "code",
   "execution_count": null,
   "id": "361e20ef",
   "metadata": {},
   "outputs": [],
   "source": []
  }
 ],
 "metadata": {
  "kernelspec": {
   "display_name": "Python 3 (ipykernel)",
   "language": "python",
   "name": "python3"
  },
  "language_info": {
   "codemirror_mode": {
    "name": "ipython",
    "version": 3
   },
   "file_extension": ".py",
   "mimetype": "text/x-python",
   "name": "python",
   "nbconvert_exporter": "python",
   "pygments_lexer": "ipython3",
   "version": "3.9.12"
  }
 },
 "nbformat": 4,
 "nbformat_minor": 5
}
