{
 "cells": [
  {
   "cell_type": "markdown",
   "id": "87db165a",
   "metadata": {},
   "source": [
    "1. Write a Python program to convert kilometers to miles?"
   ]
  },
  {
   "cell_type": "code",
   "execution_count": 1,
   "id": "f0e64d6c",
   "metadata": {},
   "outputs": [
    {
     "name": "stdout",
     "output_type": "stream",
     "text": [
      "Enter the distance in KMs:  5\n",
      "Distance in miles is 3.1\n"
     ]
    }
   ],
   "source": [
    "inKm = int(input(\"Enter the distance in KMs:  \"))\n",
    "\n",
    "inMiles = inKm * 0.62\n",
    "print(f\"Distance in miles is {inMiles}\")"
   ]
  },
  {
   "cell_type": "markdown",
   "id": "aac0c5b8",
   "metadata": {},
   "source": [
    "2. Write a Python program to convert Celsius to Fahrenheit?\n"
   ]
  },
  {
   "cell_type": "code",
   "execution_count": 4,
   "id": "f9a8aff5",
   "metadata": {},
   "outputs": [
    {
     "name": "stdout",
     "output_type": "stream",
     "text": [
      "Enter the temprature in Celsius:  1\n",
      "Temprature in Farenheit is 33.8\n"
     ]
    }
   ],
   "source": [
    "inCelsius = int(input(\"Enter the temprature in Celsius:  \"))\n",
    "\n",
    "inFarenheit = (inCelsius * 9/5) + 32\n",
    "print(f\"Temprature in Farenheit is {inFarenheit}\")"
   ]
  },
  {
   "cell_type": "markdown",
   "id": "1b50ef86",
   "metadata": {},
   "source": [
    "3. Write a Python program to display calendar?"
   ]
  },
  {
   "cell_type": "markdown",
   "id": "87540455",
   "metadata": {},
   "source": [
    "4. Write a Python program to solve quadratic equation?"
   ]
  },
  {
   "cell_type": "code",
   "execution_count": 5,
   "id": "e42e531c",
   "metadata": {},
   "outputs": [
    {
     "name": "stdout",
     "output_type": "stream",
     "text": [
      "Enter the x**2 term:  -2\n",
      "Enter the x term:  2\n",
      "Enter the constant term:  1\n",
      "The two roots for the qudratic equation are -4.0 and 8.0\n"
     ]
    }
   ],
   "source": [
    "#ax**2 + bx  +  c\n",
    "\n",
    "import cmath\n",
    "a = int(input(\"Enter the x**2 term:  \"))\n",
    "b = int(input(\"Enter the x term:  \"))\n",
    "c = int(input(\"Enter the constant term:  \"))\n",
    "\n",
    "root1 = (-b +  (((b ** 2) - 4 * a * c) ** 1/2)) / 2 * a\n",
    "root2 = (-b -  (((b ** 2) - 4 * a * c) ** 1/2)) / 2 * a\n",
    "\n",
    "print(f\"The two roots for the qudratic equation are {root1} and {root2}\")"
   ]
  },
  {
   "cell_type": "markdown",
   "id": "4f7bb9dc",
   "metadata": {},
   "source": [
    "5. Write a Python program to swap two variables without temp variable?"
   ]
  },
  {
   "cell_type": "code",
   "execution_count": 4,
   "id": "2f35d50e",
   "metadata": {},
   "outputs": [
    {
     "name": "stdout",
     "output_type": "stream",
     "text": [
      "Value of var1 and var2 before swap 5, 4.\n",
      "Value of var1 and var2 after swap 4, 5.\n"
     ]
    }
   ],
   "source": [
    "var1 = 5\n",
    "var2 = 4\n",
    "print(f\"Value of var1 and var2 before swap {var1}, {var2}.\")\n",
    "\n",
    "var1 , var2 = var2 , var1 \n",
    "print(f\"Value of var1 and var2 after swap {var1}, {var2}.\")"
   ]
  },
  {
   "cell_type": "code",
   "execution_count": null,
   "id": "25987f97",
   "metadata": {},
   "outputs": [],
   "source": []
  }
 ],
 "metadata": {
  "kernelspec": {
   "display_name": "Python 3 (ipykernel)",
   "language": "python",
   "name": "python3"
  },
  "language_info": {
   "codemirror_mode": {
    "name": "ipython",
    "version": 3
   },
   "file_extension": ".py",
   "mimetype": "text/x-python",
   "name": "python",
   "nbconvert_exporter": "python",
   "pygments_lexer": "ipython3",
   "version": "3.9.12"
  }
 },
 "nbformat": 4,
 "nbformat_minor": 5
}
