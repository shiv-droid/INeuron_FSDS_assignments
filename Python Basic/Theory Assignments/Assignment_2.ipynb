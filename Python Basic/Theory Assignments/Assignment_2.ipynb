{
 "cells": [
  {
   "cell_type": "markdown",
   "id": "d10b2a26",
   "metadata": {},
   "source": [
    "Q1.What are the two values of the Boolean data type? How do you write them?\n",
    "\n",
    "Ans-> Two values of Boolean data type is True and False.\n",
    "      We write them as True and False where the first letter should be capital."
   ]
  },
  {
   "cell_type": "markdown",
   "id": "90aebb3e",
   "metadata": {},
   "source": [
    "Q2.What are the three different types of Boolean operators?\n",
    "\n",
    "Ans->The three differnt types of Boolean operators in python are- or, and, not."
   ]
  },
  {
   "cell_type": "markdown",
   "id": "677896ed",
   "metadata": {},
   "source": [
    "Q3. Make a list of each Boolean operator's truth tables (i.e. every possible combination of Boolean values for the operator and what it evaluate).\n",
    "\n",
    "Ans->\n",
    "Truth Table for and operaotor\n",
    "True and True is True\n",
    "True and False is False\n",
    "False and True is False\n",
    "False and False is False\n",
    "\n",
    "Truth Table for or operaotor\n",
    "True and True is True\n",
    "True and False is True\n",
    "False and True is True\n",
    "False and False is False\n",
    "\n",
    "Truth Table for not operaotor\n",
    "True not is False False not is True"
   ]
  },
  {
   "cell_type": "markdown",
   "id": "5c48283b",
   "metadata": {},
   "source": [
    "Q4.What are the values of the following expressions?\n",
    "(5 > 4) and (3 == 5)\n",
    "not (5 > 4)\n",
    "(5 > 4) or (3 == 5)\n",
    "not ((5 > 4) or (3 == 5))\n",
    "(True and True) and (True == False)\n",
    "(not False) or (not True)\n",
    "\n",
    "\n",
    "Ans->\n",
    "(5 > 4) and (3 == 5)  False(Both conditions are not true)\n",
    "\n",
    "not(5 > 4) False('not' operator reverses the logic)\n",
    "\n",
    "(5 > 4) or (3 == 5) True('or' operator needs any one condition to be true)\n",
    "\n",
    "not((5 > 4) or (3 == 5)) False('not' operator reverses the logic)\n",
    "\n",
    "(True and True) and (True == False) False\n",
    "\n",
    "(not False) or (not True)  True"
   ]
  },
  {
   "cell_type": "markdown",
   "id": "2b13dd76",
   "metadata": {},
   "source": [
    "Q5. What are the six comparison operators?\n",
    "\n",
    "Ans-\n",
    "\n",
    "'>' Greater than: True if the left operand is greater than the right\n",
    "\n",
    "'<'  Less than: True if the left operand is less than the right\n",
    "\n",
    "'==' Equal to: True if both operands are equal\n",
    "\n",
    "'!=' Not equal to – True if operands are not equal\n",
    "\n",
    "'>=' Greater than or equal to: True if left operand is greater than or equal to the right\n",
    "\n",
    "'<='Less than or equal to: True if left operand is less than or equal to the right"
   ]
  },
  {
   "cell_type": "markdown",
   "id": "873175ab",
   "metadata": {},
   "source": [
    "Q6. How do you tell the difference between the equal to and assignment operators? Describe a condition and when you would use one.\n",
    "\n",
    "Ans-\n",
    "\n",
    "'==' is the equal to operator that compares two values and evaluates to a Boolean, while '=' is that assignment operator that stores a value in a variable."
   ]
  },
  {
   "cell_type": "markdown",
   "id": "bbf941c8",
   "metadata": {},
   "source": [
    "Q7. Identify the three blocks in this code:\n",
    "spam = 0\n",
    "if spam == 10:\n",
    "print('eggs')\n",
    "if spam > 5:\n",
    "print('bacon')\n",
    "else:\n",
    "print('ham')\n",
    "print('spam')\n",
    "print('spam')\n",
    "\n",
    "Ans-"
   ]
  },
  {
   "cell_type": "code",
   "execution_count": null,
   "id": "245dd9f4",
   "metadata": {},
   "outputs": [],
   "source": [
    "spam = 0\n",
    "\n",
    "\n",
    "if spam == 10:  #<- Block 1\n",
    "    print('eggs')\n",
    "if spam > 5:    #<- Block 2\n",
    "    print('bacon')\n",
    "else:           #<- Block 3\n",
    "    print('ham')\n",
    "    print('spam')\n",
    "    print('spam')"
   ]
  },
  {
   "cell_type": "markdown",
   "id": "29ac969e",
   "metadata": {},
   "source": [
    "Q8. Write code that prints Hello if 1 is stored in spam, prints Howdy if 2 is stored in spam, and prints Greetings! if anything else is stored in spam.\n",
    "\n",
    "Ans-"
   ]
  },
  {
   "cell_type": "code",
   "execution_count": null,
   "id": "46448f2a",
   "metadata": {},
   "outputs": [],
   "source": [
    "spam = int(input(''))\n",
    "\n",
    "if spam == 1:\n",
    "    print('Hello')\n",
    "elif spam == 2:\n",
    "    print('Howdy')\n",
    "else:\n",
    "    print('Greetings')"
   ]
  },
  {
   "cell_type": "markdown",
   "id": "923a75be",
   "metadata": {},
   "source": [
    "Q9.If your programme is stuck in an endless loop, what keys you’ll press?\n",
    "\n",
    "Ans- We can do keyboard interrupt using 'Ctrl + C'"
   ]
  },
  {
   "cell_type": "markdown",
   "id": "729a1089",
   "metadata": {},
   "source": [
    "Q10. How can you tell the difference between break and continue?\n",
    "\n",
    "Ans- \n",
    "Break statement, terminates the loop containing it.\n",
    "Whereas, the continue statement is used to skip the rest of the code inside a loop for the current iteration only."
   ]
  },
  {
   "cell_type": "markdown",
   "id": "e33c4151",
   "metadata": {},
   "source": [
    "Q11. In a for loop, what is the difference between range(10), range(0, 10), and range(0, 10, 1)?\n",
    "\n",
    "Ans- \n",
    "The range(10) call range from 0 to 9 (but not include 10)\n",
    "\n",
    "The range (0,10) explicitly tells the loop to start at 0\n",
    "\n",
    "The range(0,10,1) explicitly tells the loop to increase the variable by 1 on each iteration"
   ]
  },
  {
   "cell_type": "markdown",
   "id": "97c59080",
   "metadata": {},
   "source": [
    "Q12. Write a short program that prints the numbers 1 to 10 using a for loop. Then write an equivalent program that prints the numbers 1 to 10 using a while loop.\n",
    "\n",
    "Ans-"
   ]
  },
  {
   "cell_type": "code",
   "execution_count": null,
   "id": "f83b8b18",
   "metadata": {},
   "outputs": [],
   "source": [
    "# Ans 12-> \n",
    "for num in range(1 ,11):\n",
    "    print(num)\n",
    "# ------------------------------------------------    \n",
    "    \n",
    "n  =  0\n",
    "\n",
    "while n < 11:\n",
    "    print(n)\n",
    "    n = n + 1    "
   ]
  },
  {
   "cell_type": "markdown",
   "id": "6ab5e557",
   "metadata": {},
   "source": [
    "Q13. If you had a function named bacon() inside a module named spam, how would you call it after importing spam?\n",
    "\n",
    "Ans-> \n",
    "\n",
    "from bacon import spam or by spam.bacon()"
   ]
  }
 ],
 "metadata": {
  "kernelspec": {
   "display_name": "Python 3 (ipykernel)",
   "language": "python",
   "name": "python3"
  },
  "language_info": {
   "codemirror_mode": {
    "name": "ipython",
    "version": 3
   },
   "file_extension": ".py",
   "mimetype": "text/x-python",
   "name": "python",
   "nbconvert_exporter": "python",
   "pygments_lexer": "ipython3",
   "version": "3.9.12"
  }
 },
 "nbformat": 4,
 "nbformat_minor": 5
}
