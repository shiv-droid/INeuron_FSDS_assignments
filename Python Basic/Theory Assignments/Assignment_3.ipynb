{
  "nbformat": 4,
  "nbformat_minor": 0,
  "metadata": {
    "colab": {
      "provenance": []
    },
    "kernelspec": {
      "name": "python3",
      "display_name": "Python 3"
    },
    "language_info": {
      "name": "python"
    }
  },
  "cells": [
    {
      "cell_type": "markdown",
      "source": [
        "\n",
        "1. Why are functions advantageous to have in your programs?\n",
        "\n",
        "\n",
        "Ans - Funtions are advantageous to our code as it makes our code cleaner and more readable."
      ],
      "metadata": {
        "id": "pAKzEU5x8rKQ"
      }
    },
    {
      "cell_type": "markdown",
      "source": [
        "2. When does the code in a function run: when it's specified or when it's called?\n",
        "\n",
        "Ans- Code in a function runs when its called."
      ],
      "metadata": {
        "id": "mqGwP-1f9AnL"
      }
    },
    {
      "cell_type": "markdown",
      "source": [
        "3. What statement creates a function?\n",
        "\n",
        "Ans - The statment that creates funtion is-\n",
        "```\n",
        "       def functn_name():\n",
        "        what the \n",
        "        functin should \n",
        "        do '''\n",
        "```\n",
        "\n"
      ],
      "metadata": {
        "id": "I2QyYpa19H9O"
      }
    },
    {
      "cell_type": "markdown",
      "source": [
        "4. What is the difference between a function and a function call?\n",
        "\n",
        "Ans- A function is procedure to achieve a particular result. while function call is using this function to achive that task. Using a function to do a particular task any point in program is called as function call."
      ],
      "metadata": {
        "id": "14vJ4uDx_06R"
      }
    },
    {
      "cell_type": "markdown",
      "source": [
        "5. How many global scopes are there in a Python program? How many local scopes?\n",
        "\n",
        "Ans: There is one global scope, and a local scope is created whenever a function is called."
      ],
      "metadata": {
        "id": "jyUOaJeGA6be"
      }
    },
    {
      "cell_type": "markdown",
      "source": [
        "6. What happens to variables in a local scope when the function call returns?\n",
        "\n",
        "Ans: When a function returns, the local scope is destroyed, and all the variables in it are forgotten."
      ],
      "metadata": {
        "id": "kHQfB2FHA8ea"
      }
    },
    {
      "cell_type": "markdown",
      "source": [
        "7. What is the concept of a return value? Is it possible to have a return value in an expression?\n",
        "\n",
        "Ans: A return value is the value that a function call evaluates to. Like any value, a return value can be used as part of an expression."
      ],
      "metadata": {
        "id": "O5miLDX5BV5r"
      }
    },
    {
      "cell_type": "markdown",
      "source": [
        "8. If a function does not have a return statement, what is the return value of a call to that function?\n",
        "\n",
        "Ans: If there is no return statement for a function, its return value is None."
      ],
      "metadata": {
        "id": "sG38rFZZBjsD"
      }
    },
    {
      "cell_type": "markdown",
      "source": [
        "9. How do you make a function variable refer to the global variable?\n",
        "\n",
        "Ans: A global statement will force a variable in a function to refer to the global variable. If you want to refer to a global variable in a function, you can use the global keyword to declare which variables are global."
      ],
      "metadata": {
        "id": "swGOTQC5Bo7r"
      }
    },
    {
      "cell_type": "markdown",
      "source": [
        "10. What is the data type of None?\n",
        "\n",
        "Ans: The data type of None is NoneType."
      ],
      "metadata": {
        "id": "FouWixqqB6Nq"
      }
    },
    {
      "cell_type": "markdown",
      "source": [
        "11. What does the sentence import areallyourpetsnamederic do?\n",
        "\n",
        "Ans- That import statement imports a module named areallyourpetsnamederic. When executed now it gives an error as the module isn't defined.\n",
        "\n"
      ],
      "metadata": {
        "id": "SEqzpkIrCOgU"
      }
    },
    {
      "cell_type": "markdown",
      "source": [
        "12. If you had a bacon() feature in a spam module, what would you call it after importing spam?\n",
        "\n",
        "Ans- We could call it as `spam.bacon()`"
      ],
      "metadata": {
        "id": "sFHnZYyhCof7"
      }
    },
    {
      "cell_type": "markdown",
      "source": [
        "13. What can you do to save a programme from crashing if it encounters an error?\n",
        "\n",
        "Ans- We could enter the code in a `try and except block` to avoid the program from crashing."
      ],
      "metadata": {
        "id": "mXzHQ_X4C4oI"
      }
    },
    {
      "cell_type": "markdown",
      "source": [
        "14. What is the purpose of the try clause? What is the purpose of the except clause?\n",
        "\n",
        "Ans- The code that could potentially cause an error goes in the try clause. The code that executes if an error happens goes in the except clause."
      ],
      "metadata": {
        "id": "OXAOD28HDhWK"
      }
    }
  ]
}