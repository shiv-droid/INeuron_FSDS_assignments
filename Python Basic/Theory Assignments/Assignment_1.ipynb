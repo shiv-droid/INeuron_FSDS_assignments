{
 "cells": [
  {
   "cell_type": "markdown",
   "id": "555369ae",
   "metadata": {},
   "source": [
    "Q1. In the below elements which of them are values or an expression? eg:- values can be integer or string and expressions will be mathematical operators.\n",
    "* \n",
    "'hello'\n",
    "-87.8\n",
    "- \n",
    "/ \n",
    "+\n",
    "6 \n",
    "\n",
    "\n",
    "Ans-> Values- 6, -87.6, 'hello'\n",
    "      Expression- *, -, /, +"
   ]
  },
  {
   "cell_type": "code",
   "execution_count": null,
   "id": "b9a5d4d6",
   "metadata": {},
   "outputs": [],
   "source": []
  },
  {
   "cell_type": "markdown",
   "id": "f2557a82",
   "metadata": {},
   "source": [
    "Q2. What is the difference between string and variable?\n",
    "\n",
    "Ans-> \n",
    "-String is a sequence of character put in a single or double quote, also it is arrays of bytes representing unicode.Ex- 'hello'\n",
    "\n",
    "-Variable are used to store data, it can be later called to use in any operation. Ex- x = 'hello'(Here x is a variable which is being assigned the value hello, which is a string)\n"
   ]
  },
  {
   "cell_type": "code",
   "execution_count": null,
   "id": "cb95eff5",
   "metadata": {},
   "outputs": [],
   "source": []
  },
  {
   "cell_type": "markdown",
   "id": "f071364f",
   "metadata": {},
   "source": [
    "Q3. Describe three different data types.\n",
    "\n",
    "Ans->\n",
    "int: We can use int data type to represent whole numbers (integral values).Ex- 55\n",
    "\n",
    "\n",
    "float: We can use float data type to represent\n",
    "\n",
    "floating point values (decimal values).Ex- 55.0\n",
    "\n",
    "complex: Complex number is represented by complex class. It is specified as (real part) + (imaginary part)j.Ex- 55+6j"
   ]
  },
  {
   "cell_type": "code",
   "execution_count": null,
   "id": "d5c5e638",
   "metadata": {},
   "outputs": [],
   "source": []
  },
  {
   "cell_type": "markdown",
   "id": "d17961cd",
   "metadata": {},
   "source": [
    "Q4. What is an expression made up of? What do all expressions do?\n",
    "\n",
    "Ans->An expression is a combination of a value and operators that breaksdown to a new value after the operation in completed.\n",
    "     Ex- 2+2 which evaluates down to 4."
   ]
  },
  {
   "cell_type": "code",
   "execution_count": null,
   "id": "68e408ec",
   "metadata": {},
   "outputs": [],
   "source": []
  },
  {
   "cell_type": "markdown",
   "id": "7b11c39a",
   "metadata": {},
   "source": [
    "Q5. This assignment statements, like spam = 10. What is the difference between an expression and a statement?\n",
    "\n",
    "Ans-> An expression breaks down to a new value. Ex- 2*2 = 4, but an statement is something whose value dosen't change after the operation is completed. Ex- '2*2'"
   ]
  },
  {
   "cell_type": "code",
   "execution_count": null,
   "id": "aedd1b89",
   "metadata": {},
   "outputs": [],
   "source": []
  },
  {
   "cell_type": "markdown",
   "id": "1c5ac758",
   "metadata": {},
   "source": [
    "Q6. After running the following code, what does the variable bacon contain?\n",
    "bacon = 22\n",
    "bacon + 1\n",
    "\n",
    "Ans-> The variable bacon's value is not changed after bacon+1 as it is not assigned so it will remain as 22."
   ]
  },
  {
   "cell_type": "code",
   "execution_count": null,
   "id": "ff8ded4b",
   "metadata": {},
   "outputs": [],
   "source": []
  },
  {
   "cell_type": "markdown",
   "id": "bc3011c5",
   "metadata": {},
   "source": [
    "Q7. What should the values of the following two terms be?\n",
    "'spam' + 'spamspam'\n",
    "'spam' * 3\n",
    "\n",
    "Ans-> \n",
    "Both will have the same value of the string 'spamspamspam' where the first one follow string concatenation and the second one follows spring multiplication."
   ]
  },
  {
   "cell_type": "code",
   "execution_count": null,
   "id": "d5ab2df4",
   "metadata": {},
   "outputs": [],
   "source": []
  },
  {
   "cell_type": "markdown",
   "id": "646960ce",
   "metadata": {},
   "source": [
    "Q8. Why is eggs a valid variable name while 100 is invalid?\n",
    "\n",
    "Ans-> 100 is not a valid variable name as a varible name can-not start with a number. \n"
   ]
  },
  {
   "cell_type": "code",
   "execution_count": null,
   "id": "bf474f02",
   "metadata": {},
   "outputs": [],
   "source": []
  },
  {
   "cell_type": "markdown",
   "id": "ff80eafd",
   "metadata": {},
   "source": [
    "Q9. What three functions can be used to get the integer, floating-point number, or string version of a value?\n",
    "\n",
    "Ans->  Three funtions are-\n",
    "int()-> To get a integer.\n",
    "\n",
    "float()-> To get a floating point number.\n",
    "\n",
    "str()-> To get a string."
   ]
  },
  {
   "cell_type": "code",
   "execution_count": null,
   "id": "762867b1",
   "metadata": {},
   "outputs": [],
   "source": []
  },
  {
   "cell_type": "markdown",
   "id": "c282b4a4",
   "metadata": {},
   "source": [
    "Q10. Why does this expression cause an error? How can you fix it?\n",
    "'I have eaten ' + 99 + ' burritos.'\n",
    "\n",
    "Ans-> This expression causes an error as we can-not concatenate a integer with a string.\n",
    "We can solve this as rewriting this as->\n",
    "'I have eaten ' + str(99) + ' burritos.'"
   ]
  },
  {
   "cell_type": "code",
   "execution_count": null,
   "id": "a8953742",
   "metadata": {},
   "outputs": [],
   "source": []
  }
 ],
 "metadata": {
  "kernelspec": {
   "display_name": "Python 3 (ipykernel)",
   "language": "python",
   "name": "python3"
  },
  "language_info": {
   "codemirror_mode": {
    "name": "ipython",
    "version": 3
   },
   "file_extension": ".py",
   "mimetype": "text/x-python",
   "name": "python",
   "nbconvert_exporter": "python",
   "pygments_lexer": "ipython3",
   "version": "3.9.12"
  }
 },
 "nbformat": 4,
 "nbformat_minor": 5
}
