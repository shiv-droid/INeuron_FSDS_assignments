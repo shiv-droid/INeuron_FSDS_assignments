{
  "nbformat": 4,
  "nbformat_minor": 0,
  "metadata": {
    "colab": {
      "provenance": []
    },
    "kernelspec": {
      "name": "python3",
      "display_name": "Python 3"
    },
    "language_info": {
      "name": "python"
    }
  },
  "cells": [
    {
      "cell_type": "code",
      "execution_count": null,
      "metadata": {
        "id": "1XemtG4HL-ZE"
      },
      "outputs": [],
      "source": [
        "#1. Write a Python program to convert kilometers to miles?\n",
        "\n",
        "\n",
        "dist_in_km = int(input('Please enter the distance in kilometers:  '))\n",
        "dist_in_mile = dist_in_km * 0.621\n",
        "\n",
        "print(f\"When we convert {dist_in_km} kms  to miles we get {dist_in_mile} miles\")\n"
      ]
    },
    {
      "cell_type": "code",
      "source": [
        "#2. Write a Python program to convert Celsius to Fahrenheit?\n",
        "\n",
        "temp_in_celsius = float(input(\"Enter the temperature in celsius:  \"))\n",
        "\n",
        "temp_in_farenheit = (temp_in_celsius * 9/5) + 32\n",
        "\n",
        "print(f\"When we convert {temp_in_celsius} °C to Fahrenheit we get {temp_in_farenheit} °F\")\n"
      ],
      "metadata": {
        "id": "XqNKQ8JIMzVP"
      },
      "execution_count": null,
      "outputs": []
    },
    {
      "cell_type": "code",
      "source": [
        "#3. Write a Python program to display calendar?\n",
        "import calendar\n",
        " \n",
        "yy = int(input('Enter the year:   '))\n",
        "mm = int(input('Enter the month(MM)in number: '))\n",
        " \n",
        "# display the calendar\n",
        "print(calendar.month(yy, mm))"
      ],
      "metadata": {
        "id": "Z0FtYoGTN_8a"
      },
      "execution_count": null,
      "outputs": []
    },
    {
      "cell_type": "code",
      "source": [
        "#4.Write a Python program to solve quadratic equation?\n",
        "\n",
        "a_var = int(input(\"Enter the value of variable a: \"))\n",
        "b_var = int(input(\"Enter the value of variable b: \"))\n",
        "constant = int(input('Enter the value of constant c:  '))\n",
        "\n",
        "\n",
        "if a_var == 0:\n",
        "  print(\"Please enter a valid equation, variable a can't have the value 0\")  \n",
        "else:\n",
        "  discriminant = b_var ** 2 - 4 * a_var * constant\n",
        "  def solve_eqn():\n",
        "    square_root = discriminant ** (1/2)\n",
        "    root_1 = (- b_var + square_root) / (2 * a_var)\n",
        "    print(root_1)\n",
        "    root_2 = (- b_var - square_root) / (2 * a_var)\n",
        "    print(root_2)\n",
        "  if discriminant > 0:\n",
        "    print('The roots are real and distinct')\n",
        "    print(\"Calculating.......\")\n",
        "    solve_eqn()\n",
        "  elif discriminant == 0:\n",
        "    print('The roots are real and equal')\n",
        "    print(\"Calculating.......\")\n",
        "    solve_eqn()\n",
        "  else:\n",
        "    print('The roots are imaginary and unequal')\n",
        "    print(\"Calculating.......\")\n",
        "    solve_eqn()  "
      ],
      "metadata": {
        "id": "qW4Z7-KrObB0"
      },
      "execution_count": null,
      "outputs": []
    },
    {
      "cell_type": "code",
      "source": [
        "5 #5. Write a Python program to swap two variables without temp variable?\n",
        "\n",
        "var1 = input(\"Enter the first variable:  \")\n",
        "var2 = input(\"Enter the second varable:  \")\n",
        "\n",
        "print(f\"Before swap the value of first variable is {var1} and the value of second variable is {var2}\" )\n",
        "\n",
        "var1 , var2 = var2 , var1\n",
        "print(f\"After swap the value of first variable is {var1} and the value of second variable is {var2}\" )\n"
      ],
      "metadata": {
        "id": "zF-fp9szOfWq"
      },
      "execution_count": null,
      "outputs": []
    }
  ]
}