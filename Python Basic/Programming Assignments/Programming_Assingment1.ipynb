{
  "nbformat": 4,
  "nbformat_minor": 0,
  "metadata": {
    "colab": {
      "provenance": []
    },
    "kernelspec": {
      "name": "python3",
      "display_name": "Python 3"
    },
    "language_info": {
      "name": "python"
    }
  },
  "cells": [
    {
      "cell_type": "code",
      "execution_count": 9,
      "metadata": {
        "id": "OOIIjn3fAIsJ"
      },
      "outputs": [],
      "source": [
        "#1-> Write a Python program to print \"Hello Python\"?\n",
        "\n",
        "print(' \"Hello Python\" ')"
      ]
    },
    {
      "cell_type": "code",
      "source": [
        "#2.Write a Python program to do arithmetical operations addition and division.?\n",
        "\n",
        "def addition():\n",
        "  result = num1 + num2\n",
        "  print(f\"The sum of the number {num1} and {num2} is {result}\")\n",
        "\n",
        "def subtraction():\n",
        "  result = num1 - num2\n",
        "  print(f\"The diffrence of the number {num1} and {num2} is {result}\") \n",
        "\n",
        "num1 = int(input('Enter the first number: '))\n",
        "num2 = int(input('Enter the second number: '))\n",
        "ops = input('Enter the operation you want to perform \"+\" for addition \"-\" for subtraction:   ')\n",
        "if ops == '+':\n",
        "  addition()\n",
        "elif ops == '-':\n",
        "  subtraction()\n",
        "else:\n",
        "  print(\"Please provide a valid input\")  "
      ],
      "metadata": {
        "id": "RBa-AOCPAcqe"
      },
      "execution_count": 10,
      "outputs": []
    },
    {
      "cell_type": "code",
      "source": [
        "#3.Write a Python program to find the area of a triangle?\n",
        "\n",
        "base = int(input('Enter the base of the triangle:  '))\n",
        "height = int(input('Enter the height of the triangle:  '))\n",
        "\n",
        "area = 1/2 * (base * height)\n",
        "\n",
        "print(f\"The area of the triangle with base length: {base} and height: {height} is = {area}\")"
      ],
      "metadata": {
        "id": "zmP5W8dkBqJL"
      },
      "execution_count": 11,
      "outputs": []
    },
    {
      "cell_type": "code",
      "source": [
        "#4.Write a Python program to swap two variables?\n",
        "\n",
        "var1 = input(\"Enter the  first variable:  \")\n",
        "var2 = input(\"Enter the second variable:  \")\n",
        "print(f\"Before swap the value of first variable is {var1} and the value of second variable is {var2}\" )\n",
        "\n",
        "temp_var = var1\n",
        "var1 = var2\n",
        "var2 = temp_var\n",
        "print(f\"After swap the value of first variable is {var1} and the value of second variable is {var2}\" )"
      ],
      "metadata": {
        "id": "Npfo5VW_Cg2h"
      },
      "execution_count": 12,
      "outputs": []
    },
    {
      "cell_type": "code",
      "source": [
        "#5.Write a Python program to generate a random number?\n",
        "import random\n",
        "\n",
        "print('The random number is being genrated.....')\n",
        "\n",
        "result = random.randint(0 , 100000)\n",
        "print(result)"
      ],
      "metadata": {
        "id": "vrN1dFaQDrEA"
      },
      "execution_count": 13,
      "outputs": []
    }
  ]
}