{
  "nbformat": 4,
  "nbformat_minor": 0,
  "metadata": {
    "colab": {
      "provenance": []
    },
    "kernelspec": {
      "name": "python3",
      "display_name": "Python 3"
    },
    "language_info": {
      "name": "python"
    }
  },
  "cells": [
    {
      "cell_type": "code",
      "execution_count": null,
      "metadata": {
        "id": "O7tlKEb8tGbx"
      },
      "outputs": [],
      "source": [
        "# 1.Write a Python Program to Check if a Number is Positive, Negative or Zero?\n",
        "\n",
        "number = input(\"Enter the number you want to check:  \")\n",
        "try:\n",
        "  number1 = int(number)  \n",
        "  if number[0] == '-':\n",
        "    print(f'The number you entered-> {number} is a negative number')\n",
        "  elif number[0] == '+' or number[0] != 0:\n",
        "    print(f'The number you entered-> {number} is a positive number') \n",
        "  elif number == 0:\n",
        "    print('The number you entered is Zero')  \n",
        "except:\n",
        "  print('Please provide an integer')"
      ]
    },
    {
      "cell_type": "code",
      "source": [
        "#2.Write a Python Program to Check if a Number is Odd or Even?\n",
        "\n",
        "chck_number = int(input(\"Enter the number here:  \"))\n",
        "\n",
        "if chck_number % 2 == 0:\n",
        "  print('The number is even')\n",
        "else:\n",
        "  print('The number is odd') "
      ],
      "metadata": {
        "id": "UEaqvYtHuSrk"
      },
      "execution_count": null,
      "outputs": []
    },
    {
      "cell_type": "code",
      "source": [
        "#3.Write a Python Program to Check Leap Year?\n",
        "\n",
        "year =int(input('Enter the year you want to check for:  '))\n",
        "\n",
        "if year % 4 == 0:\n",
        "  if year % 100 == 0 and year % 400 == 0:\n",
        "    print(f\"The year {year} is a leap year\")\n",
        "  else:\n",
        "    print('The year is not a leap year')"
      ],
      "metadata": {
        "id": "6r6hI1lKuzIS"
      },
      "execution_count": null,
      "outputs": []
    },
    {
      "cell_type": "code",
      "source": [
        "#4.Write a Python program to check Prime Number ?\n",
        "\n",
        "def isPrime(num):\n",
        "    prime = False\n",
        "    for i in range(2,num):\n",
        "        if num%i ==0:\n",
        "            prime = True\n",
        "            break\n",
        "    if(not prime):\n",
        "        print(f'{num} is a prime number')\n",
        "    else:\n",
        "        print(f'{num} is not a prime number')\n",
        "        \n",
        "number = int(input(\"Enter a number: \"))\n",
        "isPrime(number)"
      ],
      "metadata": {
        "id": "s8Ab77-Eu3LV"
      },
      "execution_count": 6,
      "outputs": []
    },
    {
      "cell_type": "code",
      "source": [
        "#5.Write a Python Program to Print all Prime Numbers in an Interval of 1-10000?\n",
        "\n",
        "primeNumbersList = []\n",
        "\n",
        "def generatePrimeNumbers():\n",
        "    for x in range(1,10000):\n",
        "        generatePrimeNumbers=False\n",
        "        for y in range(2,x):\n",
        "            if (x%y ==0):\n",
        "                prime = True\n",
        "                break\n",
        "        if (not prime):\n",
        "            primeNumbersList.append(x)\n",
        "        \n",
        "generatePrimeNumbers()\n",
        "print(primeNumbersList)"
      ],
      "metadata": {
        "id": "8T_smbIhvQIl"
      },
      "execution_count": 5,
      "outputs": []
    },
    {
      "cell_type": "code",
      "source": [],
      "metadata": {
        "id": "_QQbn7cMvhxC"
      },
      "execution_count": null,
      "outputs": []
    }
  ]
}